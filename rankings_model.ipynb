{
 "cells": [
  {
   "cell_type": "code",
   "execution_count": 3,
   "metadata": {},
   "outputs": [],
   "source": [
    "#import packages\n",
    "\n",
    "import pandas as pd\n",
    "import numpy as np"
   ]
  },
  {
   "cell_type": "code",
   "execution_count": null,
   "metadata": {},
   "outputs": [],
   "source": [
    "#read datasets\n",
    "\n",
    "svi = pd.read_csv(\"SVI_2022_US_county.csv\")"
   ]
  },
  {
   "cell_type": "code",
   "execution_count": null,
   "metadata": {},
   "outputs": [
    {
     "data": {
      "application/vnd.microsoft.datawrangler.viewer.v0+json": {
       "columns": [
        {
         "name": "index",
         "rawType": "int64",
         "type": "integer"
        },
        {
         "name": "STATE",
         "rawType": "object",
         "type": "string"
        },
        {
         "name": "COUNTY",
         "rawType": "object",
         "type": "string"
        },
        {
         "name": "SVI",
         "rawType": "float64",
         "type": "float"
        }
       ],
       "conversionMethod": "pd.DataFrame",
       "ref": "347222a2-31e2-42b9-b7ea-7df0beee0acb",
       "rows": [
        [
         "389",
         "Georgia",
         "Appling County",
         "0.9122"
        ],
        [
         "390",
         "Georgia",
         "Atkinson County",
         "0.8444"
        ],
        [
         "391",
         "Georgia",
         "Bacon County",
         "0.889"
        ],
        [
         "392",
         "Georgia",
         "Baker County",
         "0.7162"
        ],
        [
         "393",
         "Georgia",
         "Baldwin County",
         "0.923"
        ],
        [
         "394",
         "Georgia",
         "Banks County",
         "0.3373"
        ],
        [
         "395",
         "Georgia",
         "Barrow County",
         "0.4887"
        ],
        [
         "396",
         "Georgia",
         "Bartow County",
         "0.454"
        ],
        [
         "397",
         "Georgia",
         "Ben Hill County",
         "0.9265"
        ],
        [
         "398",
         "Georgia",
         "Berrien County",
         "0.6748"
        ],
        [
         "399",
         "Georgia",
         "Bibb County",
         "0.9644"
        ],
        [
         "400",
         "Georgia",
         "Bleckley County",
         "0.7063"
        ],
        [
         "401",
         "Georgia",
         "Brantley County",
         "0.3974"
        ],
        [
         "402",
         "Georgia",
         "Brooks County",
         "0.9275"
        ],
        [
         "403",
         "Georgia",
         "Bryan County",
         "0.3115"
        ],
        [
         "404",
         "Georgia",
         "Bulloch County",
         "0.8374"
        ],
        [
         "405",
         "Georgia",
         "Burke County",
         "0.7483"
        ],
        [
         "406",
         "Georgia",
         "Butts County",
         "0.5565"
        ],
        [
         "407",
         "Georgia",
         "Calhoun County",
         "0.9688"
        ],
        [
         "408",
         "Georgia",
         "Camden County",
         "0.6618"
        ],
        [
         "409",
         "Georgia",
         "Candler County",
         "0.916"
        ],
        [
         "410",
         "Georgia",
         "Carroll County",
         "0.8428"
        ],
        [
         "411",
         "Georgia",
         "Catoosa County",
         "0.3086"
        ],
        [
         "412",
         "Georgia",
         "Charlton County",
         "0.8855"
        ],
        [
         "413",
         "Georgia",
         "Chatham County",
         "0.805"
        ],
        [
         "414",
         "Georgia",
         "Chattahoochee County",
         "0.6554"
        ],
        [
         "415",
         "Georgia",
         "Chattooga County",
         "0.9481"
        ],
        [
         "416",
         "Georgia",
         "Cherokee County",
         "0.1969"
        ],
        [
         "417",
         "Georgia",
         "Clarke County",
         "0.7502"
        ],
        [
         "418",
         "Georgia",
         "Clay County",
         "0.9061"
        ],
        [
         "419",
         "Georgia",
         "Clayton County",
         "0.9488"
        ],
        [
         "420",
         "Georgia",
         "Clinch County",
         "0.9348"
        ],
        [
         "421",
         "Georgia",
         "Cobb County",
         "0.3993"
        ],
        [
         "422",
         "Georgia",
         "Coffee County",
         "0.9609"
        ],
        [
         "423",
         "Georgia",
         "Colquitt County",
         "0.9847"
        ],
        [
         "424",
         "Georgia",
         "Columbia County",
         "0.23"
        ],
        [
         "425",
         "Georgia",
         "Cook County",
         "0.9338"
        ],
        [
         "426",
         "Georgia",
         "Coweta County",
         "0.2402"
        ],
        [
         "427",
         "Georgia",
         "Crawford County",
         "0.6837"
        ],
        [
         "428",
         "Georgia",
         "Crisp County",
         "0.978"
        ],
        [
         "429",
         "Georgia",
         "Dade County",
         "0.4388"
        ],
        [
         "430",
         "Georgia",
         "Dawson County",
         "0.1861"
        ],
        [
         "431",
         "Georgia",
         "Decatur County",
         "0.9679"
        ],
        [
         "432",
         "Georgia",
         "DeKalb County",
         "0.7903"
        ],
        [
         "433",
         "Georgia",
         "Dodge County",
         "0.8559"
        ],
        [
         "434",
         "Georgia",
         "Dooly County",
         "0.9313"
        ],
        [
         "435",
         "Georgia",
         "Dougherty County",
         "0.9761"
        ],
        [
         "436",
         "Georgia",
         "Douglas County",
         "0.7012"
        ],
        [
         "437",
         "Georgia",
         "Early County",
         "0.9357"
        ],
        [
         "438",
         "Georgia",
         "Echols County",
         "0.4623"
        ]
       ],
       "shape": {
        "columns": 3,
        "rows": 159
       }
      },
      "text/html": [
       "<div>\n",
       "<style scoped>\n",
       "    .dataframe tbody tr th:only-of-type {\n",
       "        vertical-align: middle;\n",
       "    }\n",
       "\n",
       "    .dataframe tbody tr th {\n",
       "        vertical-align: top;\n",
       "    }\n",
       "\n",
       "    .dataframe thead th {\n",
       "        text-align: right;\n",
       "    }\n",
       "</style>\n",
       "<table border=\"1\" class=\"dataframe\">\n",
       "  <thead>\n",
       "    <tr style=\"text-align: right;\">\n",
       "      <th></th>\n",
       "      <th>STATE</th>\n",
       "      <th>COUNTY</th>\n",
       "      <th>SVI</th>\n",
       "    </tr>\n",
       "  </thead>\n",
       "  <tbody>\n",
       "    <tr>\n",
       "      <th>389</th>\n",
       "      <td>Georgia</td>\n",
       "      <td>Appling County</td>\n",
       "      <td>0.9122</td>\n",
       "    </tr>\n",
       "    <tr>\n",
       "      <th>390</th>\n",
       "      <td>Georgia</td>\n",
       "      <td>Atkinson County</td>\n",
       "      <td>0.8444</td>\n",
       "    </tr>\n",
       "    <tr>\n",
       "      <th>391</th>\n",
       "      <td>Georgia</td>\n",
       "      <td>Bacon County</td>\n",
       "      <td>0.8890</td>\n",
       "    </tr>\n",
       "    <tr>\n",
       "      <th>392</th>\n",
       "      <td>Georgia</td>\n",
       "      <td>Baker County</td>\n",
       "      <td>0.7162</td>\n",
       "    </tr>\n",
       "    <tr>\n",
       "      <th>393</th>\n",
       "      <td>Georgia</td>\n",
       "      <td>Baldwin County</td>\n",
       "      <td>0.9230</td>\n",
       "    </tr>\n",
       "    <tr>\n",
       "      <th>...</th>\n",
       "      <td>...</td>\n",
       "      <td>...</td>\n",
       "      <td>...</td>\n",
       "    </tr>\n",
       "    <tr>\n",
       "      <th>543</th>\n",
       "      <td>Georgia</td>\n",
       "      <td>Whitfield County</td>\n",
       "      <td>0.8836</td>\n",
       "    </tr>\n",
       "    <tr>\n",
       "      <th>544</th>\n",
       "      <td>Georgia</td>\n",
       "      <td>Wilcox County</td>\n",
       "      <td>0.8212</td>\n",
       "    </tr>\n",
       "    <tr>\n",
       "      <th>545</th>\n",
       "      <td>Georgia</td>\n",
       "      <td>Wilkes County</td>\n",
       "      <td>0.6083</td>\n",
       "    </tr>\n",
       "    <tr>\n",
       "      <th>546</th>\n",
       "      <td>Georgia</td>\n",
       "      <td>Wilkinson County</td>\n",
       "      <td>0.7840</td>\n",
       "    </tr>\n",
       "    <tr>\n",
       "      <th>547</th>\n",
       "      <td>Georgia</td>\n",
       "      <td>Worth County</td>\n",
       "      <td>0.8571</td>\n",
       "    </tr>\n",
       "  </tbody>\n",
       "</table>\n",
       "<p>159 rows × 3 columns</p>\n",
       "</div>"
      ],
      "text/plain": [
       "       STATE            COUNTY     SVI\n",
       "389  Georgia    Appling County  0.9122\n",
       "390  Georgia   Atkinson County  0.8444\n",
       "391  Georgia      Bacon County  0.8890\n",
       "392  Georgia      Baker County  0.7162\n",
       "393  Georgia    Baldwin County  0.9230\n",
       "..       ...               ...     ...\n",
       "543  Georgia  Whitfield County  0.8836\n",
       "544  Georgia     Wilcox County  0.8212\n",
       "545  Georgia     Wilkes County  0.6083\n",
       "546  Georgia  Wilkinson County  0.7840\n",
       "547  Georgia      Worth County  0.8571\n",
       "\n",
       "[159 rows x 3 columns]"
      ]
     },
     "execution_count": 31,
     "metadata": {},
     "output_type": "execute_result"
    }
   ],
   "source": [
    "#create dataframe of SVI values by Georgia county\n",
    "\n",
    "svi_values_all_states = svi[[\"STATE\", \"COUNTY\", \"RPL_THEMES\"]]\n",
    "svi_values_ga = svi_values_all_states.query(\"STATE == 'Georgia'\")\n",
    "svi_values_ga = svi_values_ga.rename(columns={\"RPL_THEMES\" : \"SVI\"})\n",
    "svi_values_ga"
   ]
  },
  {
   "cell_type": "code",
   "execution_count": 52,
   "metadata": {},
   "outputs": [
    {
     "data": {
      "text/plain": [
       "count    159.000000\n",
       "mean       0.706448\n",
       "std        0.253615\n",
       "min        0.013700\n",
       "25%        0.546900\n",
       "50%        0.784000\n",
       "75%        0.924750\n",
       "max        0.991400\n",
       "Name: SVI, dtype: float64"
      ]
     },
     "metadata": {},
     "output_type": "display_data"
    },
    {
     "name": "stdout",
     "output_type": "stream",
     "text": [
      "[0.0137  0.11147 0.20924 0.30701 0.40478 0.50255 0.60032 0.69809 0.79586\n",
      " 0.89363 0.9914 ]\n"
     ]
    }
   ],
   "source": [
    "#summary of svi variable\n",
    "display(svi_values_ga[\"SVI\"].describe())\n",
    "\n",
    "#create bin edges\n",
    "svi_bins = np.linspace(svi_values_ga[\"SVI\"].min(), svi_values_ga[\"SVI\"].max(), num=11)\n",
    "print(svi_bins)\n",
    "\n",
    "#create bin labels\n",
    "svi_bin_labels = list(range(1,11))\n",
    "svi_bin_labels\n",
    "\n",
    "svi_values_ga[\"svi_bin\"] = pd.cut((svi_values_ga[\"SVI\"]),\n",
    "                            bins=svi_bins,\n",
    "                            right=True,\n",
    "                            include_lowest=True,\n",
    "                            labels=svi_bin_labels)\n"
   ]
  }
 ],
 "metadata": {
  "kernelspec": {
   "display_name": "base",
   "language": "python",
   "name": "python3"
  },
  "language_info": {
   "codemirror_mode": {
    "name": "ipython",
    "version": 3
   },
   "file_extension": ".py",
   "mimetype": "text/x-python",
   "name": "python",
   "nbconvert_exporter": "python",
   "pygments_lexer": "ipython3",
   "version": "3.10.9"
  }
 },
 "nbformat": 4,
 "nbformat_minor": 2
}
